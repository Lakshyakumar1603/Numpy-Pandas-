{
 "cells": [
  {
   "cell_type": "code",
   "execution_count": 1,
   "metadata": {},
   "outputs": [
    {
     "name": "stdout",
     "output_type": "stream",
     "text": [
      "hello world\n"
     ]
    }
   ],
   "source": [
    "print(\"hello world\")"
   ]
  },
  {
   "cell_type": "code",
   "execution_count": 2,
   "metadata": {},
   "outputs": [],
   "source": [
    "import numpy as np "
   ]
  },
  {
   "cell_type": "code",
   "execution_count": 60,
   "metadata": {},
   "outputs": [
    {
     "name": "stdout",
     "output_type": "stream",
     "text": [
      "\n",
      "NumPy\n",
      "=====\n",
      "\n",
      "Provides\n",
      "  1. An array object of arbitrary homogeneous items\n",
      "  2. Fast mathematical operations over arrays\n",
      "  3. Linear Algebra, Fourier Transforms, Random Number Generation\n",
      "\n",
      "How to use the documentation\n",
      "----------------------------\n",
      "Documentation is available in two forms: docstrings provided\n",
      "with the code, and a loose standing reference guide, available from\n",
      "`the NumPy homepage <https://numpy.org>`_.\n",
      "\n",
      "We recommend exploring the docstrings using\n",
      "`IPython <https://ipython.org>`_, an advanced Python shell with\n",
      "TAB-completion and introspection capabilities.  See below for further\n",
      "instructions.\n",
      "\n",
      "The docstring examples assume that `numpy` has been imported as ``np``::\n",
      "\n",
      "  >>> import numpy as np\n",
      "\n",
      "Code snippets are indicated by three greater-than signs::\n",
      "\n",
      "  >>> x = 42\n",
      "  >>> x = x + 1\n",
      "\n",
      "Use the built-in ``help`` function to view a function's docstring::\n",
      "\n",
      "  >>> help(np.sort)\n",
      "  ... # doctest: +SKIP\n",
      "\n",
      "For some objects, ``np.info(obj)`` may provide additional help.  This is\n",
      "particularly true if you see the line \"Help on ufunc object:\" at the top\n",
      "of the help() page.  Ufuncs are implemented in C, not Python, for speed.\n",
      "The native Python help() does not know how to view their help, but our\n",
      "np.info() function does.\n",
      "\n",
      "Available subpackages\n",
      "---------------------\n",
      "lib\n",
      "    Basic functions used by several sub-packages.\n",
      "random\n",
      "    Core Random Tools\n",
      "linalg\n",
      "    Core Linear Algebra Tools\n",
      "fft\n",
      "    Core FFT routines\n",
      "polynomial\n",
      "    Polynomial tools\n",
      "testing\n",
      "    NumPy testing tools\n",
      "distutils\n",
      "    Enhancements to distutils with support for\n",
      "    Fortran compilers support and more (for Python <= 3.11)\n",
      "\n",
      "Utilities\n",
      "---------\n",
      "test\n",
      "    Run numpy unittests\n",
      "show_config\n",
      "    Show numpy build configuration\n",
      "__version__\n",
      "    NumPy version string\n",
      "\n",
      "Viewing documentation using IPython\n",
      "-----------------------------------\n",
      "\n",
      "Start IPython and import `numpy` usually under the alias ``np``: `import\n",
      "numpy as np`.  Then, directly past or use the ``%cpaste`` magic to paste\n",
      "examples into the shell.  To see which functions are available in `numpy`,\n",
      "type ``np.<TAB>`` (where ``<TAB>`` refers to the TAB key), or use\n",
      "``np.*cos*?<ENTER>`` (where ``<ENTER>`` refers to the ENTER key) to narrow\n",
      "down the list.  To view the docstring for a function, use\n",
      "``np.cos?<ENTER>`` (to view the docstring) and ``np.cos??<ENTER>`` (to view\n",
      "the source code).\n",
      "\n",
      "Copies vs. in-place operation\n",
      "-----------------------------\n",
      "Most of the functions in `numpy` return a copy of the array argument\n",
      "(e.g., `np.sort`).  In-place versions of these functions are often\n",
      "available as array methods, i.e. ``x = np.array([1,2,3]); x.sort()``.\n",
      "Exceptions to this rule are documented.\n",
      "\n",
      "\n"
     ]
    }
   ],
   "source": [
    "print(np.__doc__)"
   ]
  },
  {
   "cell_type": "code",
   "execution_count": 4,
   "metadata": {},
   "outputs": [
    {
     "data": {
      "text/plain": [
       "array([10, 20, 30, 40, 50])"
      ]
     },
     "execution_count": 4,
     "metadata": {},
     "output_type": "execute_result"
    }
   ],
   "source": [
    "arr = np.array([10,20,30,40,50])   # to create an array \n",
    "arr "
   ]
  },
  {
   "cell_type": "code",
   "execution_count": 5,
   "metadata": {},
   "outputs": [
    {
     "name": "stdout",
     "output_type": "stream",
     "text": [
      "<class 'numpy.ndarray'>\n"
     ]
    }
   ],
   "source": [
    "print(type(arr))"
   ]
  },
  {
   "cell_type": "code",
   "execution_count": 6,
   "metadata": {},
   "outputs": [
    {
     "data": {
      "text/plain": [
       "dtype('int64')"
      ]
     },
     "execution_count": 6,
     "metadata": {},
     "output_type": "execute_result"
    }
   ],
   "source": [
    "arr.dtype"
   ]
  },
  {
   "cell_type": "code",
   "execution_count": 7,
   "metadata": {},
   "outputs": [
    {
     "data": {
      "text/plain": [
       "array([10. , 20. , 30. , 40. , 50. , 20.2])"
      ]
     },
     "execution_count": 7,
     "metadata": {},
     "output_type": "execute_result"
    }
   ],
   "source": [
    "arr = np.array([10,20,30,40,50,20.2])   # to create an array \n",
    "arr "
   ]
  },
  {
   "cell_type": "code",
   "execution_count": 8,
   "metadata": {},
   "outputs": [
    {
     "data": {
      "text/plain": [
       "array(['10', '20', '30', '40', '50', 'Upflairs'], dtype='<U21')"
      ]
     },
     "execution_count": 8,
     "metadata": {},
     "output_type": "execute_result"
    }
   ],
   "source": [
    "arr = np.array([10,20,30,40,50,\"Upflairs\"])   # to create an array \n",
    "arr "
   ]
  },
  {
   "cell_type": "code",
   "execution_count": 9,
   "metadata": {},
   "outputs": [
    {
     "data": {
      "text/plain": [
       "1"
      ]
     },
     "execution_count": 9,
     "metadata": {},
     "output_type": "execute_result"
    }
   ],
   "source": [
    "arr.ndim    # dimension of array "
   ]
  },
  {
   "cell_type": "code",
   "execution_count": 10,
   "metadata": {},
   "outputs": [
    {
     "data": {
      "text/plain": [
       "array([[10, 20, 30, 40, 50],\n",
       "       [10, 20, 30, 40, 50],\n",
       "       [10, 20, 30, 40, 50],\n",
       "       [10, 20, 30, 40, 50]])"
      ]
     },
     "execution_count": 10,
     "metadata": {},
     "output_type": "execute_result"
    }
   ],
   "source": [
    "arr = np.array([[10,20,30,40,50],[10,20,30,40,50],[10,20,30,40,50],[10,20,30,40,50]])   # [ [1d] , [1d] , [1D] , [1D]  ]\n",
    "arr "
   ]
  },
  {
   "cell_type": "code",
   "execution_count": 11,
   "metadata": {},
   "outputs": [
    {
     "data": {
      "text/plain": [
       "array([[[10, 20, 30, 40, 50],\n",
       "        [10, 20, 30, 40, 50],\n",
       "        [10, 20, 30, 40, 50],\n",
       "        [10, 20, 30, 40, 50]],\n",
       "\n",
       "       [[10, 20, 30, 40, 50],\n",
       "        [10, 20, 30, 40, 50],\n",
       "        [10, 20, 30, 40, 50],\n",
       "        [10, 20, 30, 40, 50]],\n",
       "\n",
       "       [[10, 20, 30, 40, 50],\n",
       "        [10, 20, 30, 40, 50],\n",
       "        [10, 20, 30, 40, 50],\n",
       "        [10, 20, 30, 40, 50]],\n",
       "\n",
       "       [[10, 20, 30, 40, 50],\n",
       "        [10, 20, 30, 40, 50],\n",
       "        [10, 20, 30, 40, 50],\n",
       "        [10, 20, 30, 40, 50]]])"
      ]
     },
     "execution_count": 11,
     "metadata": {},
     "output_type": "execute_result"
    }
   ],
   "source": [
    "ls = [[[10, 20, 30, 40, 50],\n",
    "       [10, 20, 30, 40, 50],\n",
    "       [10, 20, 30, 40, 50],\n",
    "       [10, 20, 30, 40, 50]],\n",
    "       [[10, 20, 30, 40, 50],\n",
    "       [10, 20, 30, 40, 50],\n",
    "       [10, 20, 30, 40, 50],\n",
    "       [10, 20, 30, 40, 50]],\n",
    "       [[10, 20, 30, 40, 50],\n",
    "       [10, 20, 30, 40, 50],\n",
    "       [10, 20, 30, 40, 50],\n",
    "       [10, 20, 30, 40, 50]],\n",
    "       [[10, 20, 30, 40, 50],\n",
    "       [10, 20, 30, 40, 50],\n",
    "       [10, 20, 30, 40, 50],\n",
    "       [10, 20, 30, 40, 50]]]\n",
    "\n",
    "# print(ls)\n",
    "# print(type(ls))\n",
    "arr = np.array(ls)\n",
    "arr "
   ]
  },
  {
   "cell_type": "code",
   "execution_count": 12,
   "metadata": {},
   "outputs": [
    {
     "data": {
      "text/plain": [
       "numpy.ndarray"
      ]
     },
     "execution_count": 12,
     "metadata": {},
     "output_type": "execute_result"
    }
   ],
   "source": [
    "type(arr)"
   ]
  },
  {
   "cell_type": "code",
   "execution_count": 13,
   "metadata": {},
   "outputs": [
    {
     "data": {
      "text/plain": [
       "3"
      ]
     },
     "execution_count": 13,
     "metadata": {},
     "output_type": "execute_result"
    }
   ],
   "source": [
    "arr.ndim "
   ]
  },
  {
   "cell_type": "code",
   "execution_count": 14,
   "metadata": {},
   "outputs": [
    {
     "data": {
      "text/plain": [
       "array([10, 20, 30, 40, 50])"
      ]
     },
     "execution_count": 14,
     "metadata": {},
     "output_type": "execute_result"
    }
   ],
   "source": [
    "arr = np.array([10,20,30,40,50])   # to create an array \n",
    "arr "
   ]
  },
  {
   "cell_type": "code",
   "execution_count": 15,
   "metadata": {},
   "outputs": [
    {
     "data": {
      "text/plain": [
       "np.int64(40)"
      ]
     },
     "execution_count": 15,
     "metadata": {},
     "output_type": "execute_result"
    }
   ],
   "source": [
    "arr[-2]  # single item "
   ]
  },
  {
   "cell_type": "code",
   "execution_count": 16,
   "metadata": {},
   "outputs": [
    {
     "data": {
      "text/plain": [
       "array([10, 40])"
      ]
     },
     "execution_count": 16,
     "metadata": {},
     "output_type": "execute_result"
    }
   ],
   "source": [
    "arr[::3]"
   ]
  },
  {
   "cell_type": "code",
   "execution_count": 17,
   "metadata": {},
   "outputs": [
    {
     "data": {
      "text/plain": [
       "array([10, 20, 30, 40, 50])"
      ]
     },
     "execution_count": 17,
     "metadata": {},
     "output_type": "execute_result"
    }
   ],
   "source": [
    "arr[::1]"
   ]
  },
  {
   "cell_type": "code",
   "execution_count": 18,
   "metadata": {},
   "outputs": [
    {
     "data": {
      "text/plain": [
       "array([50, 40, 30, 20, 10])"
      ]
     },
     "execution_count": 18,
     "metadata": {},
     "output_type": "execute_result"
    }
   ],
   "source": [
    "arr[::-1]\n"
   ]
  },
  {
   "cell_type": "code",
   "execution_count": 19,
   "metadata": {},
   "outputs": [
    {
     "data": {
      "text/plain": [
       "array([10, 20, 30, 40, 50])"
      ]
     },
     "execution_count": 19,
     "metadata": {},
     "output_type": "execute_result"
    }
   ],
   "source": [
    "arr "
   ]
  },
  {
   "cell_type": "code",
   "execution_count": 20,
   "metadata": {},
   "outputs": [
    {
     "data": {
      "text/plain": [
       "array([[10, 20, 30, 40, 50],\n",
       "       [10, 20, 30, 40, 50],\n",
       "       [10, 20, 30, 40, 50],\n",
       "       [10, 20, 30, 40, 50]])"
      ]
     },
     "execution_count": 20,
     "metadata": {},
     "output_type": "execute_result"
    }
   ],
   "source": [
    "arr = np.array([[10,20,30,40,50],[10,20,30,40,50],[10,20,30,40,50],[10,20,30,40,50]])   # [ [1d] , [1d] , [1D] , [1D]  ]\n",
    "arr "
   ]
  },
  {
   "cell_type": "code",
   "execution_count": 21,
   "metadata": {},
   "outputs": [
    {
     "data": {
      "text/plain": [
       "array([[[22, 16, 45, 34],\n",
       "        [34, 27, 16, 20],\n",
       "        [46, 20, 40, 32],\n",
       "        [47, 36, 30, 28],\n",
       "        [37, 33, 11, 31]],\n",
       "\n",
       "       [[24, 26, 18, 29],\n",
       "        [36, 44, 21, 45],\n",
       "        [21,  5, 33, 17],\n",
       "        [24, 27, 31, 27],\n",
       "        [ 8,  7, 48, 33]],\n",
       "\n",
       "       [[26, 14, 22, 13],\n",
       "        [34, 38,  7,  4],\n",
       "        [37,  1, 26, 29],\n",
       "        [16, 35, 27, 22],\n",
       "        [30, 23, 28,  5]]], dtype=int32)"
      ]
     },
     "execution_count": 21,
     "metadata": {},
     "output_type": "execute_result"
    }
   ],
   "source": [
    "arr = np.random.randint(1,50,(3,5,4))  #  \n",
    "arr "
   ]
  },
  {
   "cell_type": "code",
   "execution_count": 22,
   "metadata": {},
   "outputs": [
    {
     "data": {
      "text/plain": [
       "array([39, 26, 17, 48,  4, 40, 10,  1, 47,  2], dtype=int32)"
      ]
     },
     "execution_count": 22,
     "metadata": {},
     "output_type": "execute_result"
    }
   ],
   "source": [
    "arr = np.random.randint(1,50,10)  # 1D array creating with randomly \n",
    "arr "
   ]
  },
  {
   "cell_type": "code",
   "execution_count": 23,
   "metadata": {},
   "outputs": [
    {
     "data": {
      "text/plain": [
       "array([[20, 19, 46, 30, 48,  4, 48, 42],\n",
       "       [34, 20, 47, 32, 41, 45,  5, 29],\n",
       "       [ 2,  2,  3, 26,  6,  4, 43, 41],\n",
       "       [40, 35, 10, 11,  4, 39, 41, 16],\n",
       "       [35,  8, 23, 22, 41, 32, 10, 26]], dtype=int32)"
      ]
     },
     "execution_count": 23,
     "metadata": {},
     "output_type": "execute_result"
    }
   ],
   "source": [
    "arr = np.random.randint(1,50,(5,8))  # 2D array creating with randomly \n",
    "arr "
   ]
  },
  {
   "cell_type": "code",
   "execution_count": 24,
   "metadata": {},
   "outputs": [
    {
     "data": {
      "text/plain": [
       "(5, 8)"
      ]
     },
     "execution_count": 24,
     "metadata": {},
     "output_type": "execute_result"
    }
   ],
   "source": [
    "arr.shape  "
   ]
  },
  {
   "cell_type": "code",
   "execution_count": 25,
   "metadata": {},
   "outputs": [
    {
     "data": {
      "text/plain": [
       "array([[[15, 18, 12],\n",
       "        [35, 15, 11],\n",
       "        [39, 43, 21],\n",
       "        [44, 40, 34]],\n",
       "\n",
       "       [[ 9, 41, 27],\n",
       "        [18, 46, 40],\n",
       "        [40, 42, 45],\n",
       "        [ 2, 31, 21]],\n",
       "\n",
       "       [[23, 31, 15],\n",
       "        [ 5, 31,  4],\n",
       "        [37, 45, 41],\n",
       "        [27,  1, 33]]], dtype=int32)"
      ]
     },
     "execution_count": 25,
     "metadata": {},
     "output_type": "execute_result"
    }
   ],
   "source": [
    "arr = np.random.randint(1,50,(3,4,3))  # 3D array creating with randomly \n",
    "arr "
   ]
  },
  {
   "cell_type": "code",
   "execution_count": 26,
   "metadata": {},
   "outputs": [
    {
     "data": {
      "text/plain": [
       "array([0.29634197, 0.99526769, 0.59039744, 0.33089409, 0.75530587,\n",
       "       0.24256547, 0.30343206, 0.23956064, 0.96338615, 0.63251427])"
      ]
     },
     "execution_count": 26,
     "metadata": {},
     "output_type": "execute_result"
    }
   ],
   "source": [
    "arr = np.random.random(10)\n",
    "arr \n",
    "# random  in btwn 0 - 1 , randomly initialize "
   ]
  },
  {
   "cell_type": "code",
   "execution_count": 27,
   "metadata": {},
   "outputs": [
    {
     "data": {
      "text/plain": [
       "array([[0.44860472, 0.36004494, 0.25842337, 0.48621983],\n",
       "       [0.39302946, 0.7803154 , 0.54782838, 0.28435805],\n",
       "       [0.39004519, 0.31506042, 0.59318559, 0.92244153],\n",
       "       [0.29191921, 0.95135335, 0.38044285, 0.80369192],\n",
       "       [0.86469208, 0.82142235, 0.22438595, 0.66087268]])"
      ]
     },
     "execution_count": 27,
     "metadata": {},
     "output_type": "execute_result"
    }
   ],
   "source": [
    "arr = np.random.random((5,4))\n",
    "arr "
   ]
  },
  {
   "cell_type": "code",
   "execution_count": 28,
   "metadata": {},
   "outputs": [
    {
     "data": {
      "text/plain": [
       "array([[[0.01638149, 0.22926517, 0.08596594, 0.94750693],\n",
       "        [0.01662383, 0.56472807, 0.15544501, 0.4214989 ],\n",
       "        [0.0595924 , 0.36552063, 0.14548442, 0.69220457],\n",
       "        [0.91450184, 0.06390094, 0.92525869, 0.08833247],\n",
       "        [0.16974622, 0.6435731 , 0.61417719, 0.14049905]],\n",
       "\n",
       "       [[0.89140698, 0.22622747, 0.4281041 , 0.14201057],\n",
       "        [0.97084368, 0.06373716, 0.5052015 , 0.68067798],\n",
       "        [0.96921798, 0.474591  , 0.58331065, 0.56700384],\n",
       "        [0.74797248, 0.08009812, 0.14261048, 0.63379681],\n",
       "        [0.5359251 , 0.57885493, 0.22358957, 0.31947565]]])"
      ]
     },
     "execution_count": 28,
     "metadata": {},
     "output_type": "execute_result"
    }
   ],
   "source": [
    "arr = np.random.random((2,5,4))\n",
    "arr "
   ]
  },
  {
   "cell_type": "code",
   "execution_count": 29,
   "metadata": {},
   "outputs": [
    {
     "data": {
      "text/plain": [
       "array([ 1,  2,  3,  4,  5,  6,  7,  8,  9, 10])"
      ]
     },
     "execution_count": 29,
     "metadata": {},
     "output_type": "execute_result"
    }
   ],
   "source": [
    "arr = np.arange(1,11)  # it will create 1D array in a specified range \n",
    "arr "
   ]
  },
  {
   "cell_type": "code",
   "execution_count": 30,
   "metadata": {},
   "outputs": [
    {
     "data": {
      "text/plain": [
       "array([1., 1., 1., 1., 1.])"
      ]
     },
     "execution_count": 30,
     "metadata": {},
     "output_type": "execute_result"
    }
   ],
   "source": [
    "arr = np.ones(5)\n",
    "arr "
   ]
  },
  {
   "cell_type": "code",
   "execution_count": 31,
   "metadata": {},
   "outputs": [
    {
     "data": {
      "text/plain": [
       "array([[1., 1., 1., 1.],\n",
       "       [1., 1., 1., 1.],\n",
       "       [1., 1., 1., 1.],\n",
       "       [1., 1., 1., 1.],\n",
       "       [1., 1., 1., 1.]])"
      ]
     },
     "execution_count": 31,
     "metadata": {},
     "output_type": "execute_result"
    }
   ],
   "source": [
    "arr = np.ones((5,4))\n",
    "arr "
   ]
  },
  {
   "cell_type": "code",
   "execution_count": 32,
   "metadata": {},
   "outputs": [
    {
     "data": {
      "text/plain": [
       "array([[0., 0., 0., 0.],\n",
       "       [0., 0., 0., 0.],\n",
       "       [0., 0., 0., 0.],\n",
       "       [0., 0., 0., 0.],\n",
       "       [0., 0., 0., 0.]])"
      ]
     },
     "execution_count": 32,
     "metadata": {},
     "output_type": "execute_result"
    }
   ],
   "source": [
    "arr = np.zeros((5,4))\n",
    "arr "
   ]
  },
  {
   "cell_type": "code",
   "execution_count": 33,
   "metadata": {},
   "outputs": [
    {
     "data": {
      "text/plain": [
       "array([[0, 0, 0, 0],\n",
       "       [0, 0, 0, 0],\n",
       "       [0, 0, 0, 0],\n",
       "       [0, 0, 0, 0],\n",
       "       [0, 0, 0, 0]])"
      ]
     },
     "execution_count": 33,
     "metadata": {},
     "output_type": "execute_result"
    }
   ],
   "source": [
    "arr.astype(int)"
   ]
  },
  {
   "cell_type": "code",
   "execution_count": 34,
   "metadata": {},
   "outputs": [
    {
     "data": {
      "text/plain": [
       "dtype('float64')"
      ]
     },
     "execution_count": 34,
     "metadata": {},
     "output_type": "execute_result"
    }
   ],
   "source": [
    "arr.dtype"
   ]
  },
  {
   "cell_type": "code",
   "execution_count": 35,
   "metadata": {},
   "outputs": [
    {
     "data": {
      "text/plain": [
       "array([ 1.  ,  3.25,  5.5 ,  7.75, 10.  ])"
      ]
     },
     "execution_count": 35,
     "metadata": {},
     "output_type": "execute_result"
    }
   ],
   "source": [
    "arr = np.linspace(1,10,5)\n",
    "arr "
   ]
  },
  {
   "cell_type": "code",
   "execution_count": 36,
   "metadata": {},
   "outputs": [
    {
     "data": {
      "text/plain": [
       "array([ 6, 11, 10,  3,  2,  4,  2,  2,  8,  3], dtype=int32)"
      ]
     },
     "execution_count": 36,
     "metadata": {},
     "output_type": "execute_result"
    }
   ],
   "source": [
    "arr = np.random.randint(1,12,10)\n",
    "arr "
   ]
  },
  {
   "cell_type": "code",
   "execution_count": 37,
   "metadata": {},
   "outputs": [
    {
     "data": {
      "text/plain": [
       "np.int64(51)"
      ]
     },
     "execution_count": 37,
     "metadata": {},
     "output_type": "execute_result"
    }
   ],
   "source": [
    "np.sum(arr)"
   ]
  },
  {
   "cell_type": "code",
   "execution_count": 38,
   "metadata": {},
   "outputs": [
    {
     "data": {
      "text/plain": [
       "np.float64(3.269556544854363)"
      ]
     },
     "execution_count": 38,
     "metadata": {},
     "output_type": "execute_result"
    }
   ],
   "source": [
    "## aggregation function \n",
    "variance = arr.var()  # std()    #var()     #mean()    # mean ==average ,  #sum()     #max()   #min()\n",
    "np.sqrt(variance)"
   ]
  },
  {
   "cell_type": "code",
   "execution_count": 39,
   "metadata": {},
   "outputs": [
    {
     "data": {
      "text/plain": [
       "np.int64(8)"
      ]
     },
     "execution_count": 39,
     "metadata": {},
     "output_type": "execute_result"
    }
   ],
   "source": [
    "np.power(2,3)"
   ]
  },
  {
   "cell_type": "code",
   "execution_count": 40,
   "metadata": {},
   "outputs": [
    {
     "name": "stdout",
     "output_type": "stream",
     "text": [
      "[ 6 11 10  3  2  4  2  2  8  3]\n",
      "[ 6 17 27 30 32 36 38 40 48 51]\n"
     ]
    }
   ],
   "source": [
    "print(arr)\n",
    "print(np.cumsum(arr))  # cumulative sum "
   ]
  },
  {
   "cell_type": "code",
   "execution_count": 41,
   "metadata": {},
   "outputs": [],
   "source": [
    "arr.sort()  # ascending order "
   ]
  },
  {
   "cell_type": "code",
   "execution_count": 42,
   "metadata": {},
   "outputs": [
    {
     "data": {
      "text/plain": [
       "array([ 2,  2,  2,  3,  3,  4,  6,  8, 10, 11], dtype=int32)"
      ]
     },
     "execution_count": 42,
     "metadata": {},
     "output_type": "execute_result"
    }
   ],
   "source": [
    "arr "
   ]
  },
  {
   "cell_type": "code",
   "execution_count": 43,
   "metadata": {},
   "outputs": [
    {
     "data": {
      "text/plain": [
       "array([11, 10,  8,  6,  4,  3,  3,  2,  2,  2], dtype=int32)"
      ]
     },
     "execution_count": 43,
     "metadata": {},
     "output_type": "execute_result"
    }
   ],
   "source": [
    "arr[::-1]  # descending order "
   ]
  },
  {
   "cell_type": "code",
   "execution_count": 44,
   "metadata": {},
   "outputs": [
    {
     "data": {
      "text/plain": [
       "array([ 4,  2,  2,  4,  7,  5, 10,  3,  4,  1], dtype=int32)"
      ]
     },
     "execution_count": 44,
     "metadata": {},
     "output_type": "execute_result"
    }
   ],
   "source": [
    "arr = np.random.randint(1,12,10)\n",
    "arr "
   ]
  },
  {
   "cell_type": "code",
   "execution_count": 45,
   "metadata": {},
   "outputs": [],
   "source": [
    "arr[2] = 60  # to update the items "
   ]
  },
  {
   "cell_type": "code",
   "execution_count": 46,
   "metadata": {},
   "outputs": [
    {
     "data": {
      "text/plain": [
       "array([ 4,  2, 60,  4,  7,  5, 10,  3,  4,  1], dtype=int32)"
      ]
     },
     "execution_count": 46,
     "metadata": {},
     "output_type": "execute_result"
    }
   ],
   "source": [
    "arr "
   ]
  },
  {
   "cell_type": "code",
   "execution_count": 47,
   "metadata": {},
   "outputs": [],
   "source": [
    "arr[1:3] = 100"
   ]
  },
  {
   "cell_type": "code",
   "execution_count": 48,
   "metadata": {},
   "outputs": [
    {
     "data": {
      "text/plain": [
       "array([  4, 100, 100,   4,   7,   5,  10,   3,   4,   1], dtype=int32)"
      ]
     },
     "execution_count": 48,
     "metadata": {},
     "output_type": "execute_result"
    }
   ],
   "source": [
    "arr "
   ]
  },
  {
   "cell_type": "code",
   "execution_count": 49,
   "metadata": {},
   "outputs": [
    {
     "data": {
      "text/plain": [
       "array([  4, 100, 100,   4,   7,   5,  10,   3,   4,   1], dtype=int32)"
      ]
     },
     "execution_count": 49,
     "metadata": {},
     "output_type": "execute_result"
    }
   ],
   "source": [
    "arr "
   ]
  },
  {
   "cell_type": "code",
   "execution_count": 50,
   "metadata": {},
   "outputs": [
    {
     "data": {
      "text/plain": [
       "array([8, 7, 9])"
      ]
     },
     "execution_count": 50,
     "metadata": {},
     "output_type": "execute_result"
    }
   ],
   "source": [
    "arr = np.array([8,7,9])\n",
    "arr "
   ]
  },
  {
   "cell_type": "code",
   "execution_count": 51,
   "metadata": {},
   "outputs": [
    {
     "data": {
      "text/plain": [
       "array([1, 0, 2])"
      ]
     },
     "execution_count": 51,
     "metadata": {},
     "output_type": "execute_result"
    }
   ],
   "source": [
    "arr.argsort()      #argmax()    #argmin()"
   ]
  },
  {
   "cell_type": "code",
   "execution_count": 52,
   "metadata": {},
   "outputs": [
    {
     "data": {
      "text/plain": [
       "array([[[18, 28, 27, 26],\n",
       "        [21, 45, 30, 40],\n",
       "        [42, 17,  6, 44],\n",
       "        [46, 24, 30, 18],\n",
       "        [34, 35, 42,  4]],\n",
       "\n",
       "       [[ 9, 17, 23, 39],\n",
       "        [ 5, 42, 18, 45],\n",
       "        [17, 44,  2, 40],\n",
       "        [ 9, 41,  4, 28],\n",
       "        [38, 15, 41, 30]],\n",
       "\n",
       "       [[ 6, 16, 37, 31],\n",
       "        [30, 31,  1, 29],\n",
       "        [ 5, 11, 41, 35],\n",
       "        [ 2, 19, 16,  3],\n",
       "        [15, 31, 31, 47]]], dtype=int32)"
      ]
     },
     "execution_count": 52,
     "metadata": {},
     "output_type": "execute_result"
    }
   ],
   "source": [
    "arr = np.random.randint(1,50,(3,5,4))\n",
    "arr "
   ]
  },
  {
   "cell_type": "code",
   "execution_count": 53,
   "metadata": {},
   "outputs": [
    {
     "data": {
      "text/plain": [
       "array([18, 28, 27, 26, 21, 45, 30, 40, 42, 17,  6, 44, 46, 24, 30, 18, 34,\n",
       "       35, 42,  4,  9, 17, 23, 39,  5, 42, 18, 45, 17, 44,  2, 40,  9, 41,\n",
       "        4, 28, 38, 15, 41, 30,  6, 16, 37, 31, 30, 31,  1, 29,  5, 11, 41,\n",
       "       35,  2, 19, 16,  3, 15, 31, 31, 47], dtype=int32)"
      ]
     },
     "execution_count": 53,
     "metadata": {},
     "output_type": "execute_result"
    }
   ],
   "source": [
    "arr.ravel()   # convert into 1D "
   ]
  },
  {
   "cell_type": "code",
   "execution_count": 54,
   "metadata": {},
   "outputs": [
    {
     "data": {
      "text/plain": [
       "array([18, 28, 27, 26, 21, 45, 30, 40, 42, 17,  6, 44, 46, 24, 30, 18, 34,\n",
       "       35, 42,  4,  9, 17, 23, 39,  5, 42, 18, 45, 17, 44,  2, 40,  9, 41,\n",
       "        4, 28, 38, 15, 41, 30,  6, 16, 37, 31, 30, 31,  1, 29,  5, 11, 41,\n",
       "       35,  2, 19, 16,  3, 15, 31, 31, 47], dtype=int32)"
      ]
     },
     "execution_count": 54,
     "metadata": {},
     "output_type": "execute_result"
    }
   ],
   "source": [
    "arr.flatten() #convert into Flat "
   ]
  },
  {
   "cell_type": "code",
   "execution_count": 55,
   "metadata": {},
   "outputs": [
    {
     "data": {
      "text/plain": [
       "array([18, 28, 27, 26, 21, 45, 30, 40, 42, 17,  6, 44, 46, 24, 30, 18, 34,\n",
       "       35, 42,  4,  9, 17, 23, 39,  5, 42, 18, 45, 17, 44,  2, 40,  9, 41,\n",
       "        4, 28, 38, 15, 41, 30,  6, 16, 37, 31, 30, 31,  1, 29,  5, 11, 41,\n",
       "       35,  2, 19, 16,  3, 15, 31, 31, 47], dtype=int32)"
      ]
     },
     "execution_count": 55,
     "metadata": {},
     "output_type": "execute_result"
    }
   ],
   "source": [
    "arr.reshape(60) #   3*5*4 = 60 "
   ]
  },
  {
   "cell_type": "code",
   "execution_count": 56,
   "metadata": {},
   "outputs": [
    {
     "data": {
      "text/plain": [
       "60"
      ]
     },
     "execution_count": 56,
     "metadata": {},
     "output_type": "execute_result"
    }
   ],
   "source": [
    "arr.size   # total no of items "
   ]
  },
  {
   "cell_type": "code",
   "execution_count": 57,
   "metadata": {},
   "outputs": [
    {
     "data": {
      "text/plain": [
       "array([[18, 28, 27, 26, 21, 45],\n",
       "       [30, 40, 42, 17,  6, 44],\n",
       "       [46, 24, 30, 18, 34, 35],\n",
       "       [42,  4,  9, 17, 23, 39],\n",
       "       [ 5, 42, 18, 45, 17, 44],\n",
       "       [ 2, 40,  9, 41,  4, 28],\n",
       "       [38, 15, 41, 30,  6, 16],\n",
       "       [37, 31, 30, 31,  1, 29],\n",
       "       [ 5, 11, 41, 35,  2, 19],\n",
       "       [16,  3, 15, 31, 31, 47]], dtype=int32)"
      ]
     },
     "execution_count": 57,
     "metadata": {},
     "output_type": "execute_result"
    }
   ],
   "source": [
    "arr.reshape(10,6)"
   ]
  },
  {
   "cell_type": "code",
   "execution_count": 58,
   "metadata": {},
   "outputs": [
    {
     "ename": "ValueError",
     "evalue": "cannot reshape array of size 60 into shape (20,4)",
     "output_type": "error",
     "traceback": [
      "\u001b[1;31m---------------------------------------------------------------------------\u001b[0m",
      "\u001b[1;31mValueError\u001b[0m                                Traceback (most recent call last)",
      "Cell \u001b[1;32mIn[58], line 1\u001b[0m\n\u001b[1;32m----> 1\u001b[0m \u001b[43marr\u001b[49m\u001b[38;5;241;43m.\u001b[39;49m\u001b[43mreshape\u001b[49m\u001b[43m(\u001b[49m\u001b[38;5;241;43m20\u001b[39;49m\u001b[43m,\u001b[49m\u001b[38;5;241;43m4\u001b[39;49m\u001b[43m)\u001b[49m  \u001b[38;5;66;03m# resize()\u001b[39;00m\n",
      "\u001b[1;31mValueError\u001b[0m: cannot reshape array of size 60 into shape (20,4)"
     ]
    }
   ],
   "source": [
    "arr.reshape(20,4)  # resize()"
   ]
  },
  {
   "cell_type": "code",
   "execution_count": 96,
   "metadata": {},
   "outputs": [
    {
     "data": {
      "text/plain": [
       "array([[43, 31, 20, 43],\n",
       "       [16,  6, 29, 23],\n",
       "       [48, 36,  5,  5],\n",
       "       [45, 48, 46, 13],\n",
       "       [29, 27, 46, 17],\n",
       "       [37, 25,  7, 38],\n",
       "       [18, 26, 25, 16],\n",
       "       [11, 12,  5, 42],\n",
       "       [ 5, 11, 44, 43],\n",
       "       [41, 40, 49, 41],\n",
       "       [47, 25,  5, 25],\n",
       "       [20, 26, 42,  1],\n",
       "       [15,  1, 23, 15],\n",
       "       [47, 49, 49, 47],\n",
       "       [37, 29, 16, 27],\n",
       "       [43, 31, 20, 43],\n",
       "       [16,  6, 29, 23],\n",
       "       [48, 36,  5,  5],\n",
       "       [45, 48, 46, 13],\n",
       "       [29, 27, 46, 17]], dtype=int32)"
      ]
     },
     "execution_count": 96,
     "metadata": {},
     "output_type": "execute_result"
    }
   ],
   "source": [
    "np.resize(arr,(20,4))   # duplicates "
   ]
  },
  {
   "cell_type": "code",
   "execution_count": 97,
   "metadata": {},
   "outputs": [
    {
     "data": {
      "text/plain": [
       "array([ 8,  5,  2,  6,  5,  8,  4, 11,  4, 11,  1], dtype=int32)"
      ]
     },
     "execution_count": 97,
     "metadata": {},
     "output_type": "execute_result"
    }
   ],
   "source": [
    "arr = np.random.randint(1,12,11)\n",
    "arr "
   ]
  },
  {
   "cell_type": "code",
   "execution_count": 101,
   "metadata": {},
   "outputs": [
    {
     "data": {
      "text/plain": [
       "array([[12, 20, 46],\n",
       "       [30, 36, 12],\n",
       "       [ 8,  3,  6],\n",
       "       [ 2,  4, 34],\n",
       "       [16, 42, 36]], dtype=int32)"
      ]
     },
     "execution_count": 101,
     "metadata": {},
     "output_type": "execute_result"
    }
   ],
   "source": [
    "arr = np.random.randint(1,50,(5,3))\n",
    "arr "
   ]
  },
  {
   "cell_type": "code",
   "execution_count": 102,
   "metadata": {},
   "outputs": [
    {
     "data": {
      "text/plain": [
       "array([[12, 30,  8,  2, 16],\n",
       "       [20, 36,  3,  4, 42],\n",
       "       [46, 12,  6, 34, 36]], dtype=int32)"
      ]
     },
     "execution_count": 102,
     "metadata": {},
     "output_type": "execute_result"
    }
   ],
   "source": [
    "np.transpose(arr)   # are same ==>   arr.T   "
   ]
  },
  {
   "cell_type": "code",
   "execution_count": 104,
   "metadata": {},
   "outputs": [
    {
     "data": {
      "text/plain": [
       "array([[12, 30,  8,  2, 16],\n",
       "       [20, 36,  3,  4, 42],\n",
       "       [46, 12,  6, 34, 36]], dtype=int32)"
      ]
     },
     "execution_count": 104,
     "metadata": {},
     "output_type": "execute_result"
    }
   ],
   "source": [
    "arr.T    # transpose "
   ]
  },
  {
   "cell_type": "code",
   "execution_count": 106,
   "metadata": {},
   "outputs": [
    {
     "name": "stdout",
     "output_type": "stream",
     "text": [
      "[42 10 20 27 29 14 44 36 25  4]\n",
      "[44 12 22 29 31 16 46 38 27  6]\n"
     ]
    }
   ],
   "source": [
    "## metrics operation \n",
    "arr = np.random.randint(1,50,10)\n",
    "print(arr )\n",
    "print(arr + 2 )"
   ]
  },
  {
   "cell_type": "code",
   "execution_count": 107,
   "metadata": {},
   "outputs": [
    {
     "name": "stdout",
     "output_type": "stream",
     "text": [
      "[42 10 20 27 29 14 44 36 25  4]\n",
      "[84 20 40 54 58 28 88 72 50  8]\n"
     ]
    }
   ],
   "source": [
    "print(arr)\n",
    "print(arr * 2)"
   ]
  },
  {
   "cell_type": "code",
   "execution_count": 114,
   "metadata": {},
   "outputs": [
    {
     "name": "stdout",
     "output_type": "stream",
     "text": [
      "[10 20 30 40]\n",
      "[5 5 5 5]\n"
     ]
    }
   ],
   "source": [
    "arr1 = np.array([10,20,30,40])\n",
    "arr2 = np.array([5,5,5,5])\n",
    "print(arr1)\n",
    "print(arr2)"
   ]
  },
  {
   "cell_type": "code",
   "execution_count": 116,
   "metadata": {},
   "outputs": [
    {
     "name": "stdout",
     "output_type": "stream",
     "text": [
      "[10 20 30 40]\n",
      "[5 5 5 5]\n",
      "[15 25 35 45]\n"
     ]
    }
   ],
   "source": [
    "print(arr1)\n",
    "print(arr2)\n",
    "print(arr1 + arr2) "
   ]
  },
  {
   "cell_type": "code",
   "execution_count": 3,
   "metadata": {},
   "outputs": [
    {
     "data": {
      "text/plain": [
       "array([ 24, 101,  50,  33,  32, 158,  76, 198, 124,  99,  36, 193, 198,\n",
       "       150, 114, 178, 150, 168, 142, 130,  89, 193, 155, 136, 154, 168,\n",
       "       143,  14, 178,  90, 117,  92, 150,  84,  29,  92, 115, 190,  29,\n",
       "       174,  72,  32, 198,  74, 156,  19,  24, 135, 196, 102,  60, 149,\n",
       "         5,  46,  31, 125, 126, 104, 105,  16,  52,  23,  63,   3,  76,\n",
       "       195, 194,   5,  66,  34, 161, 103,  36,  41,  74,  32,  83, 109,\n",
       "        11, 120, 125, 133, 181, 122, 184,  61,  18, 122, 196, 134, 182,\n",
       "        88,  18, 193, 148, 131, 189, 149, 150,  83,  82,  95,  35,  38,\n",
       "        45,  34,  19, 139, 131,  89,  37,  56, 123, 150, 141, 119,  62,\n",
       "        61, 168, 121, 110, 123, 137, 167,  87,  46,  82, 146, 175,  96,\n",
       "       196, 165,  47,  23,   1,  43, 178, 143, 106, 117, 125, 141, 185,\n",
       "        31,  48,  55,  78, 151,  40, 119, 154, 165,  30,  51,  21,  42,\n",
       "        26, 163,  79, 148, 184, 103, 143, 151, 173,  64,  66, 190,  54,\n",
       "        20, 188, 187,  49, 185, 180,  60, 115,  42,  66, 125, 189, 110,\n",
       "       182, 181, 158,  24, 192, 112,  29, 184, 147, 101,  24, 110, 145,\n",
       "        43, 143, 176,  59,  87], dtype=int32)"
      ]
     },
     "execution_count": 3,
     "metadata": {},
     "output_type": "execute_result"
    }
   ],
   "source": [
    "arr = np.random.randint(1,200,200)\n",
    "arr "
   ]
  },
  {
   "cell_type": "code",
   "execution_count": 6,
   "metadata": {},
   "outputs": [
    {
     "name": "stdout",
     "output_type": "stream",
     "text": [
      "[24, 50, 33, 32, 76, 99, 36, 89, 14, 90, 92, 84, 29, 92, 29, 72, 32, 74, 19, 24, 60, 5, 46, 31, 16, 52, 23, 63, 3, 76, 5, 66, 34, 36, 41, 74, 32, 83, 11, 61, 18, 88, 18, 83, 82, 95, 35, 38, 45, 34, 19, 89, 37, 56, 62, 61, 87, 46, 82, 96, 47, 23, 1, 43, 31, 48, 55, 78, 40, 30, 51, 21, 42, 26, 79, 64, 66, 54, 20, 49, 60, 42, 66, 24, 29, 24, 43, 59, 87]\n",
      "89\n"
     ]
    }
   ],
   "source": [
    "temp = []\n",
    "for item in arr:\n",
    "    if item < 100 :\n",
    "        temp.append(int(item))\n",
    "print(temp)\n",
    "print(len(temp))    "
   ]
  },
  {
   "cell_type": "code",
   "execution_count": 10,
   "metadata": {},
   "outputs": [
    {
     "data": {
      "text/plain": [
       "array([101, 158, 198, 124, 193, 198, 150, 114, 178, 150, 168, 142, 130,\n",
       "       193, 155, 136, 154, 168, 143, 178, 117, 150, 115, 190, 174, 198,\n",
       "       156, 135, 196, 102, 149, 125, 126, 104, 105, 195, 194, 161, 103,\n",
       "       109, 120, 125, 133, 181, 122, 184, 122, 196, 134, 182, 193, 148,\n",
       "       131, 189, 149, 150, 139, 131, 123, 150, 141, 119, 168, 121, 110,\n",
       "       123, 137, 167, 146, 175, 196, 165, 178, 143, 106, 117, 125, 141,\n",
       "       185, 151, 119, 154, 165, 163, 148, 184, 103, 143, 151, 173, 190,\n",
       "       188, 187, 185, 180, 115, 125, 189, 110, 182, 181, 158, 192, 112,\n",
       "       184, 147, 101, 110, 145, 143, 176], dtype=int32)"
      ]
     },
     "execution_count": 10,
     "metadata": {},
     "output_type": "execute_result"
    }
   ],
   "source": [
    "arr[arr > 100]    # try with multiple "
   ]
  },
  {
   "cell_type": "code",
   "execution_count": 14,
   "metadata": {},
   "outputs": [
    {
     "data": {
      "text/plain": [
       "(array([ 2, 10, 11, 15]),)"
      ]
     },
     "execution_count": 14,
     "metadata": {},
     "output_type": "execute_result"
    }
   ],
   "source": [
    "arr = np.random.randint(1,40,20)\n",
    "np.where(arr<10)  # data  filter "
   ]
  },
  {
   "cell_type": "code",
   "execution_count": 15,
   "metadata": {},
   "outputs": [
    {
     "data": {
      "text/plain": [
       "array([29, 19,  4, 31, 23, 25, 36, 37, 33, 34,  1,  4, 38, 26, 27,  2, 18,\n",
       "       17, 20, 38], dtype=int32)"
      ]
     },
     "execution_count": 15,
     "metadata": {},
     "output_type": "execute_result"
    }
   ],
   "source": [
    "arr "
   ]
  },
  {
   "cell_type": "code",
   "execution_count": 16,
   "metadata": {},
   "outputs": [
    {
     "name": "stdout",
     "output_type": "stream",
     "text": [
      "[ 2 10 11 17 13]\n",
      "[11  8 11 11 12]\n"
     ]
    }
   ],
   "source": [
    "arr1 = np.random.randint(1,20,5)\n",
    "arr2 = np.random.randint(1,20,5)\n",
    "print(arr1)\n",
    "print(arr2)"
   ]
  },
  {
   "cell_type": "code",
   "execution_count": 19,
   "metadata": {},
   "outputs": [
    {
     "data": {
      "text/plain": [
       "array([ 2, 10, 11, 17, 13, 11,  8, 11, 11, 12], dtype=int32)"
      ]
     },
     "execution_count": 19,
     "metadata": {},
     "output_type": "execute_result"
    }
   ],
   "source": [
    "arr3 = np.concatenate((arr1,arr2))\n",
    "arr3"
   ]
  },
  {
   "cell_type": "code",
   "execution_count": 29,
   "metadata": {},
   "outputs": [
    {
     "name": "stdout",
     "output_type": "stream",
     "text": [
      "[[13 11  2  9]\n",
      " [19  7 13 16]\n",
      " [14  1 17  7]\n",
      " [ 9 11  7 11]\n",
      " [19 13  6  1]]\n",
      "\n",
      "[[ 9]\n",
      " [15]\n",
      " [ 9]\n",
      " [14]\n",
      " [17]]\n"
     ]
    }
   ],
   "source": [
    "# 2D + 2D \n",
    "arr1 = np.random.randint(1,20,(5,4))\n",
    "arr2 = np.random.randint(1,20,(5,1))\n",
    "print(arr1)\n",
    "print()\n",
    "print(arr2)"
   ]
  },
  {
   "cell_type": "code",
   "execution_count": 30,
   "metadata": {},
   "outputs": [
    {
     "data": {
      "text/plain": [
       "array([[13, 11,  2,  9,  9],\n",
       "       [19,  7, 13, 16, 15],\n",
       "       [14,  1, 17,  7,  9],\n",
       "       [ 9, 11,  7, 11, 14],\n",
       "       [19, 13,  6,  1, 17]], dtype=int32)"
      ]
     },
     "execution_count": 30,
     "metadata": {},
     "output_type": "execute_result"
    }
   ],
   "source": [
    "np.concatenate((arr1,arr2),axis=1)"
   ]
  },
  {
   "cell_type": "code",
   "execution_count": 35,
   "metadata": {},
   "outputs": [
    {
     "name": "stdout",
     "output_type": "stream",
     "text": [
      "[[16  6  9  4]\n",
      " [11 14 16 15]\n",
      " [11 10  8  9]\n",
      " [ 8 14 11  1]\n",
      " [ 1 15  8 12]]\n",
      "\n",
      "[[ 5]\n",
      " [11]\n",
      " [11]\n",
      " [18]]\n"
     ]
    }
   ],
   "source": [
    "arr1 = np.random.randint(1,20,(5,4))\n",
    "arr2 = np.random.randint(1,20,(4,1))\n",
    "print(arr1)\n",
    "print()\n",
    "print(arr2)"
   ]
  },
  {
   "cell_type": "code",
   "execution_count": 38,
   "metadata": {},
   "outputs": [
    {
     "data": {
      "text/plain": [
       "array([[16,  6,  9,  4],\n",
       "       [11, 14, 16, 15],\n",
       "       [11, 10,  8,  9],\n",
       "       [ 8, 14, 11,  1],\n",
       "       [ 1, 15,  8, 12],\n",
       "       [ 5, 11, 11, 18]], dtype=int32)"
      ]
     },
     "execution_count": 38,
     "metadata": {},
     "output_type": "execute_result"
    }
   ],
   "source": [
    "np.concatenate((arr1,arr2.T),axis=0)"
   ]
  },
  {
   "cell_type": "code",
   "execution_count": 39,
   "metadata": {},
   "outputs": [
    {
     "name": "stdout",
     "output_type": "stream",
     "text": [
      "[[17 11  3 19]\n",
      " [10 13 16  5]\n",
      " [ 8  9 17  9]\n",
      " [ 1  5  3 19]\n",
      " [10 17  5 19]]\n",
      "\n",
      "[ 4 10 13 11]\n"
     ]
    }
   ],
   "source": [
    "# 2D + 1D \n",
    "arr1 = np.random.randint(1,20,(5,4))\n",
    "arr2 = np.random.randint(1,20,4)\n",
    "print(arr1)\n",
    "print()\n",
    "print(arr2)"
   ]
  },
  {
   "cell_type": "code",
   "execution_count": 40,
   "metadata": {},
   "outputs": [
    {
     "data": {
      "text/plain": [
       "((5, 4), (4,))"
      ]
     },
     "execution_count": 40,
     "metadata": {},
     "output_type": "execute_result"
    }
   ],
   "source": [
    "arr1.shape , arr2.shape "
   ]
  },
  {
   "cell_type": "code",
   "execution_count": 43,
   "metadata": {},
   "outputs": [
    {
     "data": {
      "text/plain": [
       "array([[17, 11,  3, 19],\n",
       "       [10, 13, 16,  5],\n",
       "       [ 8,  9, 17,  9],\n",
       "       [ 1,  5,  3, 19],\n",
       "       [10, 17,  5, 19],\n",
       "       [ 4, 10, 13, 11]], dtype=int32)"
      ]
     },
     "execution_count": 43,
     "metadata": {},
     "output_type": "execute_result"
    }
   ],
   "source": [
    "np.vstack((arr1,arr2))\n"
   ]
  },
  {
   "cell_type": "code",
   "execution_count": 59,
   "metadata": {},
   "outputs": [
    {
     "ename": "TypeError",
     "evalue": "vsplit() missing 2 required positional arguments: 'ary' and 'indices_or_sections'",
     "output_type": "error",
     "traceback": [
      "\u001b[1;31m---------------------------------------------------------------------------\u001b[0m",
      "\u001b[1;31mTypeError\u001b[0m                                 Traceback (most recent call last)",
      "Cell \u001b[1;32mIn[59], line 1\u001b[0m\n\u001b[1;32m----> 1\u001b[0m \u001b[43mnp\u001b[49m\u001b[38;5;241;43m.\u001b[39;49m\u001b[43mvsplit\u001b[49m\u001b[43m(\u001b[49m\u001b[43m)\u001b[49m\n\u001b[0;32m      2\u001b[0m np\u001b[38;5;241m.\u001b[39mhsplit() \n",
      "\u001b[1;31mTypeError\u001b[0m: vsplit() missing 2 required positional arguments: 'ary' and 'indices_or_sections'"
     ]
    }
   ],
   "source": [
    "np.vsplit()\n",
    "np.hsplit() "
   ]
  },
  {
   "cell_type": "code",
   "execution_count": null,
   "metadata": {},
   "outputs": [],
   "source": []
  }
 ],
 "metadata": {
  "kernelspec": {
   "display_name": ".venv",
   "language": "python",
   "name": "python3"
  },
  "language_info": {
   "codemirror_mode": {
    "name": "ipython",
    "version": 3
   },
   "file_extension": ".py",
   "mimetype": "text/x-python",
   "name": "python",
   "nbconvert_exporter": "python",
   "pygments_lexer": "ipython3",
   "version": "3.12.5"
  }
 },
 "nbformat": 4,
 "nbformat_minor": 2
}
